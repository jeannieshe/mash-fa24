{
 "cells": [
  {
   "cell_type": "code",
   "execution_count": 137,
   "id": "42a3b9be-33ae-4bf0-be2b-9c7dc8b59b64",
   "metadata": {},
   "outputs": [],
   "source": [
    "import pyreadr\n",
    "import pandas as pd\n",
    "import numpy as np\n",
    "from sklearn.model_selection import StratifiedKFold\n",
    "from sklearn.cross_decomposition import PLSRegression\n",
    "from scipy.stats import pearsonr\n",
    "import pickle"
   ]
  },
  {
   "cell_type": "code",
   "execution_count": 139,
   "id": "7d568570-a78a-4af2-b4ef-46c0b5379bd3",
   "metadata": {},
   "outputs": [],
   "source": [
    "# import data, access pandas df via key \"None\"\n",
    "X_Govaere = pyreadr.read_r(\"datasets/X_Govaere.rds\")[None]\n",
    "X_Hoang = pyreadr.read_r(\"datasets/X_Hoang.rds\")[None]\n",
    "X_Pantano = pyreadr.read_r(\"datasets/X_Pantano.rds\")[None]\n",
    "\n",
    "# actual, clinical results\n",
    "Y_Govaere = pyreadr.read_r(\"datasets/Y_Govaere.rds\")[None]\n",
    "Y_Hoang = pyreadr.read_r(\"datasets/Y_Hoang.rds\")[None]\n",
    "Y_Pantano = pyreadr.read_r(\"datasets/Y_Pantano.rds\")[None]\n",
    "\n",
    "# viper metric, predicted results\n",
    "Y_viper_Govaere = pyreadr.read_r(\"datasets/viper_X_Govaere.rds\")[None]\n",
    "Y_viper_Hoang = pyreadr.read_r(\"datasets/viper_X_Hoang.rds\")[None]\n",
    "Y_viper_Pantano = pyreadr.read_r(\"datasets/viper_X_Pantano.rds\")[None]"
   ]
  },
  {
   "cell_type": "code",
   "execution_count": 8,
   "id": "939c9ccc-c397-4c1e-b046-37d2711782f8",
   "metadata": {},
   "outputs": [],
   "source": [
    "# StratifiedKFold will split datasets evenly amongst the classes\n",
    "# shuffle=True will shuffle each class's samples before splitting into batches\n",
    "# random_state=5 will guarantee reproducible output across multiple function calls\n",
    "\n",
    "skf = StratifiedKFold(n_splits=10, shuffle=True, random_state=5)"
   ]
  },
  {
   "cell_type": "code",
   "execution_count": 10,
   "id": "563a8a56-a7bd-438f-888e-7be9083487f2",
   "metadata": {},
   "outputs": [],
   "source": [
    "X = X_Govaere\n",
    "Y = Y_Govaere"
   ]
  },
  {
   "cell_type": "code",
   "execution_count": 12,
   "id": "f7f04cbc-d6ea-4cc6-be24-c2db852ab88b",
   "metadata": {},
   "outputs": [],
   "source": [
    "num_lvs = range(2, 11)"
   ]
  },
  {
   "cell_type": "code",
   "execution_count": 14,
   "id": "e881e312-70f3-4114-b882-16ec6c583c55",
   "metadata": {},
   "outputs": [],
   "source": [
    "def pair_pearsonr(x, y, axis=0): # this will allow us to take the pearson coefficient across two variables\n",
    "    mx = np.mean(x, axis=axis, keepdims=True)\n",
    "    my = np.mean(y, axis=axis, keepdims=True)\n",
    "    xm, ym = x-mx, y-my\n",
    "    r_num = np.add.reduce(xm * ym, axis=axis)\n",
    "    r_den = np.sqrt((xm*xm).sum(axis=axis) * (ym*ym).sum(axis=axis))\n",
    "    r = r_num / r_den\n",
    "    return r"
   ]
  },
  {
   "cell_type": "code",
   "execution_count": null,
   "id": "ccb14aad-5370-4687-9fd6-8e31cce64478",
   "metadata": {
    "scrolled": true
   },
   "outputs": [],
   "source": [
    "# checking that pearson_r is equivalent to taking the mean of pair_pearsonr\n",
    "# np.mean(pair_pearsonr(Y_test.values, Y_test_hat))\n",
    "corr_test, _ = pearsonr(Y_test.values[:,0], Y_test_hat[:, 0])\n",
    "print(corr_test)"
   ]
  },
  {
   "cell_type": "code",
   "execution_count": 20,
   "id": "b8d59ed5-b7f7-48de-9118-6aad3e973565",
   "metadata": {},
   "outputs": [],
   "source": [
    "pearson_coeff_lvs = [] # containing tuples (num_lv, avg pearson coeff)\n",
    "\n",
    "for latent_var in num_lvs:\n",
    "    \n",
    "    pearson_coeff = []\n",
    "    \n",
    "    for i, (train_index, test_index) in enumerate(skf.split(X, Y[\"fibrosis\"])): # index into \"fibrosis\" only because we need the correct size for finding indices\n",
    "\n",
    "        X_train = X.iloc[train_index]\n",
    "        X_test = X.iloc[test_index]\n",
    "        Y_train = Y.iloc[train_index]\n",
    "        Y_test = Y.iloc[test_index]\n",
    "        # print(f'{Y_test=}')\n",
    "\n",
    "        model = PLSRegression(n_components=latent_var, scale=False)\n",
    "        model.fit(X_train, Y_train)\n",
    "        Y_test_hat = model.predict(X_test)\n",
    "        # print(f'{Y_test_hat=}')\n",
    "        # corr_test, _ = pearsonr(Y_test.values, Y_test_hat)\n",
    "        # pearson_coeff.append(corr_test)\n",
    "        pearson_coeff.append(np.mean(pair_pearsonr(Y_test.values, Y_test_hat))) # take the mean in order to be able to generalize the behavior on both phenotypes\n",
    "        \n",
    "        \n",
    "    pearson_coeff_lvs.append((latent_var, sum(pearson_coeff)/len(pearson_coeff))) # evaluate based on the average across all 10 folds"
   ]
  },
  {
   "cell_type": "code",
   "execution_count": 24,
   "id": "4901a905-dad2-4a87-beac-f81fb9729ded",
   "metadata": {},
   "outputs": [
    {
     "name": "stdout",
     "output_type": "stream",
     "text": [
      "(8, 0.6914184288420416)\n"
     ]
    }
   ],
   "source": [
    "print(max(pearson_coeff_lvs, key=lambda x: x[1])) # tells us that 8 lvs is optimal!!\n",
    "# print(max(pearson_coeff_lvs_nas, key=lambda x: x[1]))"
   ]
  },
  {
   "cell_type": "code",
   "execution_count": 167,
   "id": "2ff8d1d9-c9d7-45e6-adb7-b957120cba4d",
   "metadata": {},
   "outputs": [],
   "source": [
    "# save the model so we can run it again!\n",
    "# store the pearson's coeff for training and validation sets\n",
    "\n",
    "latent_var = 8 # our best performing hyperparameter\n",
    "train_pearson_coeff_fib = []\n",
    "train_pearson_coeff_nas = []\n",
    "test_pearson_coeff_fib = []\n",
    "test_pearson_coeff_nas = []\n",
    "\n",
    "for i, (train_index, test_index) in enumerate(skf.split(X, Y[\"fibrosis\"])):\n",
    "\n",
    "    X_train = X.iloc[train_index]\n",
    "    X_test = X.iloc[test_index]\n",
    "    Y_train = Y.iloc[train_index]\n",
    "    Y_test = Y.iloc[test_index]\n",
    "\n",
    "    model = PLSRegression(n_components=latent_var, scale=False)\n",
    "    model.fit(X_train, Y_train)\n",
    "    \n",
    "    Y_train_hat = model.predict(X_train) \n",
    "    corr_test_fib, _ = pearsonr(Y_train.values[:,0], Y_train_hat[:,0]) # fibrosis correlation\n",
    "    corr_test_nas, _ = pearsonr(Y_train.values[:,1], Y_train_hat[:,1]) # NAS correlation\n",
    "    train_pearson_coeff_fib.append(corr_test_fib)\n",
    "    train_pearson_coeff_nas.append(corr_test_nas)\n",
    "    \n",
    "    Y_test_hat = model.predict(X_test) \n",
    "    corr_test_fib, _ = pearsonr(Y_test.values[:,0], Y_test_hat[:,0]) # fibrosis correlation\n",
    "    corr_test_nas, _ = pearsonr(Y_test.values[:,1], Y_test_hat[:,1]) # NAS correlation\n",
    "    test_pearson_coeff_fib.append(corr_test_fib)\n",
    "    test_pearson_coeff_nas.append(corr_test_nas)\n",
    "\n",
    "    # break\n",
    "    # filename = f\"models/Govaere_PLSR_fold_{i}.pkl\"\n",
    "    # with open(filename, 'wb') as file:\n",
    "    #     pickle.dump(model, file)\n",
    "    \n",
    "    # print(f\"Model for Fold {i} saved as {filename}\")"
   ]
  },
  {
   "cell_type": "code",
   "execution_count": 141,
   "id": "8558452f-6a8d-4784-ac67-90c761eb276d",
   "metadata": {},
   "outputs": [
    {
     "name": "stdout",
     "output_type": "stream",
     "text": [
      "Loaded model 0 from models/Govaere_PLSR_fold_0.pkl\n",
      "Loaded model 1 from models/Govaere_PLSR_fold_1.pkl\n",
      "Loaded model 2 from models/Govaere_PLSR_fold_2.pkl\n",
      "Loaded model 3 from models/Govaere_PLSR_fold_3.pkl\n",
      "Loaded model 4 from models/Govaere_PLSR_fold_4.pkl\n",
      "Loaded model 5 from models/Govaere_PLSR_fold_5.pkl\n",
      "Loaded model 6 from models/Govaere_PLSR_fold_6.pkl\n",
      "Loaded model 7 from models/Govaere_PLSR_fold_7.pkl\n",
      "Loaded model 8 from models/Govaere_PLSR_fold_8.pkl\n",
      "Loaded model 9 from models/Govaere_PLSR_fold_9.pkl\n"
     ]
    }
   ],
   "source": [
    "# run on the Hoang and Pantano test sets\n",
    "# load all models\n",
    "\n",
    "loaded_models = []\n",
    "for i in range(0, 10):\n",
    "    filename = f\"models/Govaere_PLSR_fold_{i}.pkl\"\n",
    "    with open(filename, 'rb') as file:\n",
    "        model = pickle.load(file)\n",
    "        loaded_models.append(model)\n",
    "    print(f\"Loaded model {i} from {filename}\")"
   ]
  },
  {
   "cell_type": "code",
   "execution_count": 28,
   "id": "ba588737-90ba-4d88-974d-514f6a7487ad",
   "metadata": {},
   "outputs": [],
   "source": [
    "# create shuffled dataset from Govaere\n",
    "X_shuffled_genes = X.apply(lambda col: np.random.permutation(col.values), axis=0)\n",
    "X_Govaere_shuffled = X_Govaere.apply(lambda col: np.random.permutation(col.values), axis=0)\n",
    "X_Govaere_shuffled.index = X_Govaere.index # ensure the gene names are maintained"
   ]
  },
  {
   "cell_type": "code",
   "execution_count": 177,
   "id": "c384cec1-6a19-4e97-a1a5-0ea62c1095a0",
   "metadata": {},
   "outputs": [],
   "source": [
    "# run on Hoang, Pantano, and shuffled Govaere dataset\n",
    "Hoang_pearson_coeff_fib = []\n",
    "Hoang_pearson_coeff_nas = []\n",
    "Pantano_pearson_coeff_fib = []\n",
    "Pantano_pearson_coeff_nas = []\n",
    "shuffled_pearson_coeff_fib = []\n",
    "shuffled_pearson_coeff_nas = []\n",
    "\n",
    "for i, model in enumerate(loaded_models):\n",
    "    Y_pred = model.predict(X_Hoang)\n",
    "    corr_test_fib, _ = pearsonr(Y_Hoang.values[:,0], Y_pred[:,0]) # fibrosis correlation\n",
    "    corr_test_nas, _ = pearsonr(Y_Hoang.values[:,1], Y_pred[:,1]) # NAS correlation\n",
    "    Hoang_pearson_coeff_fib.append(corr_test_fib)\n",
    "    Hoang_pearson_coeff_nas.append(corr_test_nas)\n",
    "\n",
    "    Y_pred = model.predict(X_Pantano)\n",
    "    corr_test_fib, _ = pearsonr(Y_Pantano.values[:,0], Y_pred[:,0]) # fibrosis correlation\n",
    "    corr_test_nas, _ = pearsonr(Y_Pantano.values[:,1], Y_pred[:,1]) # NAS correlation\n",
    "    Pantano_pearson_coeff_fib.append(corr_test_fib)\n",
    "    Pantano_pearson_coeff_nas.append(corr_test_nas)\n",
    "\n",
    "    Y_pred = model.predict(X_Govaere_shuffled)\n",
    "    corr_test_fib, _ = pearsonr(Y_Govaere.values[:,0], Y_pred[:,0]) # fibrosis correlation\n",
    "    corr_test_nas, _ = pearsonr(Y_Govaere.values[:,1], Y_pred[:,1]) # NAS correlation\n",
    "    shuffled_pearson_coeff_fib.append(corr_test_fib)\n",
    "    shuffled_pearson_coeff_nas.append(corr_test_nas)\n"
   ]
  },
  {
   "cell_type": "code",
   "execution_count": 195,
   "id": "f0ab6d5a-a05e-4b34-a0e4-894030124e06",
   "metadata": {},
   "outputs": [
    {
     "data": {
      "text/plain": [
       "[0.672033905482859,\n",
       " 0.8273739507352478,\n",
       " 0.754019407143882,\n",
       " 0.6427572798117623,\n",
       " 0.4761568345858711,\n",
       " 0.8057942573718496,\n",
       " 0.5391044328500764,\n",
       " 0.6272482186585724,\n",
       " 0.6273783408008892,\n",
       " 0.7933399386237254]"
      ]
     },
     "execution_count": 195,
     "metadata": {},
     "output_type": "execute_result"
    }
   ],
   "source": [
    "# Hoang_pearson_coeff_fib\n",
    "# Hoang_pearson_coeff_nas\n",
    "# Pantano_pearson_coeff_fib\n",
    "# Pantano_pearson_coeff_nas\n",
    "# shuffled_pearson_coeff_fib\n",
    "# shuffled_pearson_coeff_nas\n",
    "test_pearson_coeff_fib"
   ]
  },
  {
   "cell_type": "code",
   "execution_count": 197,
   "id": "1462dea8-c19a-4593-bdbb-32f637aeb2c6",
   "metadata": {},
   "outputs": [],
   "source": [
    "# store all pearson correlation coefficients in a dataframe\n",
    "all_fib_coeff = {\n",
    "    'Train': train_pearson_coeff_fib,\n",
    "    'Validation': test_pearson_coeff_fib,\n",
    "    'Hoang': Hoang_pearson_coeff_fib,\n",
    "    'Pantano': Pantano_pearson_coeff_fib,\n",
    "    'Shuffled': shuffled_pearson_coeff_fib\n",
    "}\n",
    "\n",
    "all_fib_pearsons_coeff = pd.DataFrame(all_fib_coeff)"
   ]
  },
  {
   "cell_type": "code",
   "execution_count": 207,
   "id": "f9d5d2c4-854a-491a-a6bb-9250400966f3",
   "metadata": {},
   "outputs": [],
   "source": [
    "all_nas_coeff = {\n",
    "    'Train': train_pearson_coeff_nas,\n",
    "    'Validation': test_pearson_coeff_nas,\n",
    "    'Hoang': Hoang_pearson_coeff_nas,\n",
    "    'Pantano': Pantano_pearson_coeff_nas,\n",
    "    'Shuffled': shuffled_pearson_coeff_nas\n",
    "}\n",
    "\n",
    "all_nas_pearsons_coeff = pd.DataFrame(all_nas_coeff)"
   ]
  },
  {
   "cell_type": "code",
   "execution_count": 209,
   "id": "0f30cf4f-747e-455d-9d83-9049d7b50906",
   "metadata": {},
   "outputs": [],
   "source": [
    "filename = f\"graphs/PLSR_tuning_with_Govaere_nas_coeff.pkl\"\n",
    "with open(filename, 'wb') as file:\n",
    "    pickle.dump(all_nas_pearsons_coeff, file)"
   ]
  },
  {
   "cell_type": "code",
   "execution_count": 228,
   "id": "321f0ec5-43de-4ba4-9218-650ee855efd2",
   "metadata": {},
   "outputs": [
    {
     "data": {
      "image/png": "[encoded data removed]",
      "text/plain": [
       "<Figure size 585.25x413.875 with 1 Axes>"
      ]
     },
     "metadata": {},
     "output_type": "display_data"
    }
   ],
   "source": [
    "significant_combinations = []\n",
    "all_pearsons_coeff = all_fib_pearsons_coeff # TODO: CHANGE\n",
    "training_dataset = \"Govaere\" # TODO: CHANGE\n",
    "\n",
    "combinations = [(x, 4) for x in [1, 2, 3]]\n",
    "for combo in combinations:\n",
    "    data1 = all_pearsons_coeff.iloc[:,combo[0]]\n",
    "    data2 = all_pearsons_coeff.iloc[:,combo[1]]\n",
    "    \n",
    "    # calculate significance\n",
    "    U, p = stats.mannwhitneyu(data1, data2, alternative='two-sided')\n",
    "    if p < 0.05:\n",
    "        significant_combinations.append([combo, p])\n",
    "\n",
    "# create a set of axes\n",
    "ax = plt.axes()\n",
    "# create a boxplot on the axes\n",
    "bp = ax.boxplot(all_pearsons_coeff, patch_artist=True)\n",
    "# graph title\n",
    "ax.set_title(f\"PLSR model trained on {training_dataset} predicting fibrosis scores\", fontsize=16) # TODO: CHANGE\n",
    "# label y-axis\n",
    "ax.set_ylabel(\"Pearson Coefficient\")\n",
    "\n",
    "xticklabels = all_pearsons_coeff.columns.tolist()\n",
    "ax.set_xticklabels(xticklabels)\n",
    "\n",
    "# Change the colour of the boxes to Seaborn's 'pastel' palette\n",
    "colors = sns.color_palette('colorblind')\n",
    "for patch, color in zip(bp['boxes'], colors):\n",
    "    patch.set_facecolor(color)\n",
    "\n",
    "# Colour of the median lines\n",
    "plt.setp(bp['medians'], color='k')\n",
    "\n",
    "# Get the y-axis limits\n",
    "bottom, top = ax.get_ylim()\n",
    "y_range = top - bottom\n",
    "\n",
    "# Significance bars\n",
    "for i, significant_combination in enumerate(significant_combinations):\n",
    "    # Columns corresponding to the datasets of interest\n",
    "    # add one because the df indexing is 0 indexed, but plot is 1 indexed\n",
    "    x1 = significant_combination[0][0] + 1 \n",
    "    x2 = significant_combination[0][1] + 1\n",
    "    # What level is this bar among the bars above the plot?\n",
    "    level = len(significant_combinations) - i\n",
    "    # Plot the bar\n",
    "    bar_height = (y_range * 0.07 * level) + top\n",
    "    bar_tips = bar_height - (y_range * 0.02)\n",
    "    plt.plot(\n",
    "        [x1, x1, x2, x2],\n",
    "        [bar_tips, bar_height, bar_height, bar_tips], lw=1, c='k'\n",
    "    )\n",
    "    # Significance level\n",
    "    p = significant_combination[1]\n",
    "    if p < 0.001:\n",
    "        sig_symbol = '***'\n",
    "    elif p < 0.01:\n",
    "        sig_symbol = '**'\n",
    "    elif p < 0.05:\n",
    "        sig_symbol = '*'\n",
    "    text_height = bar_height + (y_range * 0.01)\n",
    "    plt.text((x1 + x2) * 0.5, text_height, sig_symbol, ha='center', va='bottom', c='k')\n",
    "\n",
    "plt.savefig(f'graphs/PLSR_tuning_with_{training_dataset}_predicting_fib.png', dpi=200) # TODO: CHANGE\n",
    "plt.show()"
   ]
  },
  {
   "cell_type": "code",
   "execution_count": null,
   "id": "71d28e2a-6649-4cf3-bb12-627e5d7932cf",
   "metadata": {},
   "outputs": [],
   "source": []
  },
  {
   "cell_type": "markdown",
   "id": "8d2d170c-1fe0-49af-8a2f-1112bb1992dc",
   "metadata": {
    "jp-MarkdownHeadingCollapsed": true
   },
   "source": [
    "### excess"
   ]
  },
  {
   "cell_type": "code",
   "execution_count": 94,
   "id": "058af0bb-0b10-4225-bfb6-608d6f24f95a",
   "metadata": {},
   "outputs": [],
   "source": [
    "import matplotlib.pyplot as plt\n",
    "import seaborn as sns\n",
    "from scipy import stats"
   ]
  },
  {
   "cell_type": "code",
   "execution_count": 90,
   "id": "2716cbeb-1dcc-40c2-9e1f-ae940991c53e",
   "metadata": {},
   "outputs": [],
   "source": [
    "# Make figures A6 in size\n",
    "A = 6\n",
    "plt.rc('figure', figsize=[46.82 * .5**(.5 * A), 33.11 * .5**(.5 * A)])\n",
    "# Use LaTeX for graphs' text\n",
    "plt.rc('text', usetex=True)\n",
    "# Use the serif font\n",
    "plt.rc('font', family='serif')"
   ]
  },
  {
   "cell_type": "code",
   "execution_count": 120,
   "id": "3d781a11-23f8-4789-a162-b8be20fc401e",
   "metadata": {},
   "outputs": [
    {
     "data": {
      "text/plain": [
       "0    0.108127\n",
       "1    0.079802\n",
       "2    0.107090\n",
       "3    0.113206\n",
       "4    0.100203\n",
       "5    0.094683\n",
       "6    0.103404\n",
       "7    0.066955\n",
       "8    0.064553\n",
       "9    0.068372\n",
       "Name: Shuffled, dtype: float64"
      ]
     },
     "execution_count": 120,
     "metadata": {},
     "output_type": "execute_result"
    }
   ],
   "source": [
    "all_pearsons_coeff.iloc[:,4]"
   ]
  },
  {
   "cell_type": "code",
   "execution_count": 122,
   "id": "63cbe13d-4285-45a9-8d3a-fe6f591c9547",
   "metadata": {},
   "outputs": [],
   "source": [
    "significant_combinations = []\n",
    "\n",
    "combinations = [(x, 4) for x in [1, 2, 3]]\n",
    "for combo in combinations:\n",
    "    data1 = all_pearsons_coeff.iloc[:,combo[0]]\n",
    "    data2 = all_pearsons_coeff.iloc[:,combo[1]]\n",
    "    # calculate significance\n",
    "\n",
    "    U, p = stats.mannwhitneyu(data1, data2, alternative='two-sided')\n",
    "    if p < 0.05:\n",
    "        significant_combinations.append([combo, p])"
   ]
  },
  {
   "cell_type": "code",
   "execution_count": 124,
   "id": "a1a05bfb-3e96-4a2d-abf4-ff64091ec928",
   "metadata": {},
   "outputs": [
    {
     "data": {
      "text/plain": [
       "[[(1, 4), 0.00018267179110955002],\n",
       " [(2, 4), 0.00018267179110955002],\n",
       " [(3, 4), 0.00018267179110955002]]"
      ]
     },
     "execution_count": 124,
     "metadata": {},
     "output_type": "execute_result"
    }
   ],
   "source": [
    "significant_combinations"
   ]
  },
  {
   "cell_type": "code",
   "execution_count": 132,
   "id": "c0514e49-6b57-4724-9693-2d3c4726f52a",
   "metadata": {},
   "outputs": [
    {
     "data": {
      "image/png": "[encoded data removed]",
      "text/plain": [
       "<Figure size 585.25x413.875 with 1 Axes>"
      ]
     },
     "metadata": {},
     "output_type": "display_data"
    }
   ],
   "source": [
    "# create a set of axes\n",
    "ax = plt.axes()\n",
    "# create a boxplot on the axes\n",
    "bp = ax.boxplot(all_pearsons_coeff, patch_artist=True)\n",
    "# graph title\n",
    "ax.set_title(\"Tuning PLSR Model with Govaere in-vivo Training Data\", fontsize=16)\n",
    "# label y-axis\n",
    "ax.set_ylabel(\"Pearson Coefficient\")\n",
    "\n",
    "xticklabels = all_pearsons_coeff.columns.tolist()\n",
    "ax.set_xticklabels(xticklabels)\n",
    "\n",
    "# Change the colour of the boxes to Seaborn's 'pastel' palette\n",
    "colors = sns.color_palette('colorblind')\n",
    "for patch, color in zip(bp['boxes'], colors):\n",
    "    patch.set_facecolor(color)\n",
    "\n",
    "# Colour of the median lines\n",
    "plt.setp(bp['medians'], color='k')\n",
    "\n",
    "# Get the y-axis limits\n",
    "bottom, top = ax.get_ylim()\n",
    "y_range = top - bottom\n",
    "\n",
    "# Significance bars\n",
    "for i, significant_combination in enumerate(significant_combinations):\n",
    "    # Columns corresponding to the datasets of interest\n",
    "    # add one because the df indexing is 0 indexed, but plot is 1 indexed\n",
    "    x1 = significant_combination[0][0] + 1 \n",
    "    x2 = significant_combination[0][1] + 1\n",
    "    # What level is this bar among the bars above the plot?\n",
    "    level = len(significant_combinations) - i\n",
    "    # Plot the bar\n",
    "    bar_height = (y_range * 0.07 * level) + top\n",
    "    bar_tips = bar_height - (y_range * 0.02)\n",
    "    plt.plot(\n",
    "        [x1, x1, x2, x2],\n",
    "        [bar_tips, bar_height, bar_height, bar_tips], lw=1, c='k'\n",
    "    )\n",
    "    # Significance level\n",
    "    p = significant_combination[1]\n",
    "    if p < 0.001:\n",
    "        sig_symbol = '***'\n",
    "    elif p < 0.01:\n",
    "        sig_symbol = '**'\n",
    "    elif p < 0.05:\n",
    "        sig_symbol = '*'\n",
    "    text_height = bar_height + (y_range * 0.01)\n",
    "    plt.text((x1 + x2) * 0.5, text_height, sig_symbol, ha='center', va='bottom', c='k')\n",
    "\n",
    "plt.show()"
   ]
  },
  {
   "cell_type": "code",
   "execution_count": 134,
   "id": "6c94880b-1834-4f10-962b-5ff530eed5c9",
   "metadata": {},
   "outputs": [
    {
     "data": {
      "text/plain": [
       "[[(1, 4), 0.00018267179110955002],\n",
       " [(2, 4), 0.00018267179110955002],\n",
       " [(3, 4), 0.00018267179110955002]]"
      ]
     },
     "execution_count": 134,
     "metadata": {},
     "output_type": "execute_result"
    }
   ],
   "source": [
    "significant_combinations"
   ]
  }
 ],
 "metadata": {
  "kernelspec": {
   "display_name": "Python 3 (ipykernel)",
   "language": "python",
   "name": "python3"
  },
  "language_info": {
   "codemirror_mode": {
    "name": "ipython",
    "version": 3
   },
   "file_extension": ".py",
   "mimetype": "text/x-python",
   "name": "python",
   "nbconvert_exporter": "python",
   "pygments_lexer": "ipython3",
   "version": "3.12.4"
  }
 },
 "nbformat": 4,
 "nbformat_minor": 5
}

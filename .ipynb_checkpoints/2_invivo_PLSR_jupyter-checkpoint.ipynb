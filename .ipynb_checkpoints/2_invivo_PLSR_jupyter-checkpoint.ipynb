{
 "cells": [
  {
   "cell_type": "code",
   "execution_count": 158,
   "id": "42a3b9be-33ae-4bf0-be2b-9c7dc8b59b64",
   "metadata": {},
   "outputs": [],
   "source": [
    "import pyreadr\n",
    "import pandas as pd\n",
    "import numpy as np\n",
    "from sklearn.model_selection import StratifiedKFold\n",
    "from sklearn.cross_decomposition import PLSRegression\n",
    "from scipy.stats import pearsonr\n",
    "import pickle"
   ]
  },
  {
   "cell_type": "code",
   "execution_count": 4,
   "id": "7d568570-a78a-4af2-b4ef-46c0b5379bd3",
   "metadata": {},
   "outputs": [],
   "source": [
    "# import data, access pandas df via key \"None\"\n",
    "X_Govaere = pyreadr.read_r(\"datasets/X_Govaere.rds\")[None]\n",
    "X_Hoang = pyreadr.read_r(\"datasets/X_Hoang.rds\")[None]\n",
    "X_Pantano = pyreadr.read_r(\"datasets/X_Pantano.rds\")[None]\n",
    "\n",
    "# actual, clinical results\n",
    "Y_Govaere = pyreadr.read_r(\"datasets/Y_Govaere.rds\")[None]\n",
    "Y_Hoang = pyreadr.read_r(\"datasets/Y_Hoang.rds\")[None]\n",
    "Y_Pantano = pyreadr.read_r(\"datasets/Y_Pantano.rds\")[None]\n",
    "\n",
    "# viper metric, predicted results\n",
    "Y_viper_Govaere = pyreadr.read_r(\"datasets/viper_X_Govaere.rds\")[None]\n",
    "Y_viper_Hoang = pyreadr.read_r(\"datasets/viper_X_Hoang.rds\")[None]\n",
    "Y_viper_Pantano = pyreadr.read_r(\"datasets/viper_X_Pantano.rds\")[None]"
   ]
  },
  {
   "cell_type": "code",
   "execution_count": 138,
   "id": "d81f8f94-53bb-426f-bba3-d181dae4398d",
   "metadata": {},
   "outputs": [
    {
     "data": {
      "text/plain": [
       "0      4\n",
       "1      7\n",
       "2      7\n",
       "3      5\n",
       "4      5\n",
       "      ..\n",
       "189    6\n",
       "190    7\n",
       "191    3\n",
       "192    5\n",
       "193    7\n",
       "Name: NAS, Length: 194, dtype: int32"
      ]
     },
     "execution_count": 138,
     "metadata": {},
     "output_type": "execute_result"
    }
   ],
   "source": [
    "Y_Govaere[\"NAS\"]"
   ]
  },
  {
   "cell_type": "code",
   "execution_count": 122,
   "id": "939c9ccc-c397-4c1e-b046-37d2711782f8",
   "metadata": {},
   "outputs": [],
   "source": [
    "## tuning procedure\n",
    "# training: Govaere, 10-fold cross validation to find the ideal (num of latent variables) hyperparameter\n",
    "\n",
    "# StratifiedKFold will split datasets evenly amongst the classes\n",
    "# shuffle=True will shuffle each class's samples before splitting into batches\n",
    "# random_state=5 will guarantee reproducible output across multiple function calls\n",
    "\n",
    "skf = StratifiedKFold(n_splits=10, shuffle=True, random_state=5)\n",
    "# num_lvs = range(2, 11) # test number of latent variables as hyperparameter\n",
    "# need to split into Fibrosis and NAS scores"
   ]
  },
  {
   "cell_type": "code",
   "execution_count": 160,
   "id": "563a8a56-a7bd-438f-888e-7be9083487f2",
   "metadata": {},
   "outputs": [],
   "source": [
    "X = X_Govaere\n",
    "Y = Y_Govaere\n",
    "# Y = Y_Govaere[\"NAS\"]\n",
    "# X = np.array([['Sample 1', 3, 50], ['Sample 2', 5, 60], ['Sample 3', 7, 70], ['Sample 4', 7, 2], ['Sample 5', 5, 40], ['Sample 6', 7, 90], ['Sample 7', 3, 40], ['Sample 8', 2, 63], ['Sample 9', 3, 72], ['Sample 10', 3, 20], ['Sample 11', 6, 42], ['Sample 12', 9, 52]])\n",
    "# Y = np.array([['Sample 1', 4], ['Sample 2', 5], ['Sample 3', 6], ['Sample 4', 4], ['Sample 5', 5], ['Sample 6', 6], ['Sample 7', 4], ['Sample 8', 5], ['Sample 9', 6], ['Sample 10', 4], ['Sample 11', 5], ['Sample 12', 6]])\n",
    "# X = pd.DataFrame(X, columns=[\"Sample\", \"Gene1\", \"Gene2\"])\n",
    "# X.set_index('Sample', inplace=True)\n",
    "# Y = pd.DataFrame(Y, columns=[\"Sample\", \"Score\"])\n",
    "# Y.set_index('Sample', inplace=True)"
   ]
  },
  {
   "cell_type": "code",
   "execution_count": 88,
   "id": "f7f04cbc-d6ea-4cc6-be24-c2db852ab88b",
   "metadata": {},
   "outputs": [],
   "source": [
    "num_lvs = range(2, 11)"
   ]
  },
  {
   "cell_type": "code",
   "execution_count": 182,
   "id": "e881e312-70f3-4114-b882-16ec6c583c55",
   "metadata": {},
   "outputs": [],
   "source": [
    "def pair_pearsonr(x, y, axis=0): # this will allow us to take the pearson coefficient across two variables\n",
    "    mx = np.mean(x, axis=axis, keepdims=True)\n",
    "    my = np.mean(y, axis=axis, keepdims=True)\n",
    "    xm, ym = x-mx, y-my\n",
    "    r_num = np.add.reduce(xm * ym, axis=axis)\n",
    "    r_den = np.sqrt((xm*xm).sum(axis=axis) * (ym*ym).sum(axis=axis))\n",
    "    r = r_num / r_den\n",
    "    return r"
   ]
  },
  {
   "cell_type": "code",
   "execution_count": 184,
   "id": "ccb14aad-5370-4687-9fd6-8e31cce64478",
   "metadata": {},
   "outputs": [
    {
     "data": {
      "text/plain": [
       "0.5320413536850888"
      ]
     },
     "execution_count": 184,
     "metadata": {},
     "output_type": "execute_result"
    }
   ],
   "source": [
    "np.mean(pair_pearsonr(Y_test.values, Y_test_hat))"
   ]
  },
  {
   "cell_type": "code",
   "execution_count": 180,
   "id": "ce9c5426-7c74-4d26-9376-853f1834976e",
   "metadata": {},
   "outputs": [
    {
     "name": "stdout",
     "output_type": "stream",
     "text": [
      "0.4055686128776076\n"
     ]
    }
   ],
   "source": [
    "corr_test, _ = pearsonr(Y_test.values[:,0], Y_test_hat[:, 0])\n",
    "print(corr_test)"
   ]
  },
  {
   "cell_type": "code",
   "execution_count": 194,
   "id": "b8d59ed5-b7f7-48de-9118-6aad3e973565",
   "metadata": {},
   "outputs": [],
   "source": [
    "pearson_coeff_lvs = [] # containing tuples (num_lv, avg pearson coeff)\n",
    "\n",
    "for latent_var in num_lvs:\n",
    "    \n",
    "    pearson_coeff = []\n",
    "    \n",
    "    for i, (train_index, test_index) in enumerate(skf.split(X, Y[\"fibrosis\"])): # index into \"fibrosis\" only because we need the correct size for finding indices\n",
    "\n",
    "        X_train = X.iloc[train_index]\n",
    "        X_test = X.iloc[test_index]\n",
    "        Y_train = Y.iloc[train_index]\n",
    "        Y_test = Y.iloc[test_index]\n",
    "        # print(f'{Y_test=}')\n",
    "\n",
    "        model = PLSRegression(n_components=latent_var, scale=False)\n",
    "        model.fit(X_train, Y_train)\n",
    "        Y_test_hat = model.predict(X_test)\n",
    "        # print(f'{Y_test_hat=}')\n",
    "        # corr_test, _ = pearsonr(Y_test.values, Y_test_hat)\n",
    "        # pearson_coeff.append(corr_test)\n",
    "        pearson_coeff.append(np.mean(pair_pearsonr(Y_test.values, Y_test_hat))) # take the mean in order to be able to generalize the behavior on both phenotypes\n",
    "        \n",
    "        \n",
    "    pearson_coeff_lvs.append((latent_var, sum(pearson_coeff)/len(pearson_coeff))) # evaluate based on the average across all 10 folds"
   ]
  },
  {
   "cell_type": "code",
   "execution_count": 190,
   "id": "858ed86b-5f57-4e94-9d9f-56e455249743",
   "metadata": {},
   "outputs": [
    {
     "data": {
      "text/plain": [
       "[(2, 0.5900863978637487),\n",
       " (3, 0.6441351182963138),\n",
       " (4, 0.6705098180176309),\n",
       " (5, 0.6709128061426597),\n",
       " (6, 0.6728213237537848),\n",
       " (7, 0.6844330674648568),\n",
       " (8, 0.6914184288420416),\n",
       " (9, 0.6855949808282513),\n",
       " (10, 0.6774924468858089)]"
      ]
     },
     "execution_count": 190,
     "metadata": {},
     "output_type": "execute_result"
    }
   ],
   "source": [
    "# pearson_coeff_lvs_fib = pearson_coeff_lvs\n",
    "# pearson_coeff_lvs_nas = pearson_coeff_lvs\n",
    "pearson_coeff_lvs"
   ]
  },
  {
   "cell_type": "code",
   "execution_count": 196,
   "id": "4901a905-dad2-4a87-beac-f81fb9729ded",
   "metadata": {},
   "outputs": [
    {
     "name": "stdout",
     "output_type": "stream",
     "text": [
      "(8, 0.6914184288420416)\n"
     ]
    }
   ],
   "source": [
    "print(max(pearson_coeff_lvs, key=lambda x: x[1])) # tells us that 8 lvs is optimal!!\n",
    "# print(max(pearson_coeff_lvs_nas, key=lambda x: x[1]))"
   ]
  },
  {
   "cell_type": "code",
   "execution_count": 202,
   "id": "2ff8d1d9-c9d7-45e6-adb7-b957120cba4d",
   "metadata": {},
   "outputs": [
    {
     "name": "stdout",
     "output_type": "stream",
     "text": [
      "Model for Fold 0 saved as models/Govaere_PLSR_fold_0.pkl\n",
      "Model for Fold 1 saved as models/Govaere_PLSR_fold_1.pkl\n",
      "Model for Fold 2 saved as models/Govaere_PLSR_fold_2.pkl\n",
      "Model for Fold 3 saved as models/Govaere_PLSR_fold_3.pkl\n",
      "Model for Fold 4 saved as models/Govaere_PLSR_fold_4.pkl\n",
      "Model for Fold 5 saved as models/Govaere_PLSR_fold_5.pkl\n",
      "Model for Fold 6 saved as models/Govaere_PLSR_fold_6.pkl\n",
      "Model for Fold 7 saved as models/Govaere_PLSR_fold_7.pkl\n",
      "Model for Fold 8 saved as models/Govaere_PLSR_fold_8.pkl\n",
      "Model for Fold 9 saved as models/Govaere_PLSR_fold_9.pkl\n"
     ]
    }
   ],
   "source": [
    "# save the model so we can run it again!\n",
    "# store the pearson's coeff for training and validation sets\n",
    "\n",
    "latent_var = 8 # our best performing hyperparameter\n",
    "train_pearson_coeff = []\n",
    "test_pearson_coeff = []\n",
    "\n",
    "for i, (train_index, test_index) in enumerate(skf.split(X, Y[\"fibrosis\"])): # index into \"fibrosis\" only because we need the correct size for finding indices\n",
    "\n",
    "    X_train = X.iloc[train_index]\n",
    "    X_test = X.iloc[test_index]\n",
    "    Y_train = Y.iloc[train_index]\n",
    "    Y_test = Y.iloc[test_index]\n",
    "\n",
    "    model = PLSRegression(n_components=latent_var, scale=False)\n",
    "    model.fit(X_train, Y_train)\n",
    "    \n",
    "    Y_train_hat = model.predict(X_train) \n",
    "    train_pearson_coeff.append(np.mean(pair_pearsonr(Y_train.values, Y_train_hat)))\n",
    "    \n",
    "    Y_test_hat = model.predict(X_test) \n",
    "    test_pearson_coeff.append(np.mean(pair_pearsonr(Y_test.values, Y_test_hat)))\n",
    "    \n",
    "    filename = f\"models/Govaere_PLSR_fold_{i}.pkl\"\n",
    "    with open(filename, 'wb') as file:\n",
    "        pickle.dump(model, file)\n",
    "    \n",
    "    print(f\"Model for Fold {i} saved as {filename}\")"
   ]
  },
  {
   "cell_type": "code",
   "execution_count": 208,
   "id": "1ae95186-7efd-4f52-8e15-16a2611c6246",
   "metadata": {},
   "outputs": [
    {
     "data": {
      "text/plain": [
       "[0.7198820544916396,\n",
       " 0.8326253803459147,\n",
       " 0.715182338065102,\n",
       " 0.6448205437141911,\n",
       " 0.5371496756646934,\n",
       " 0.7743974548834212,\n",
       " 0.5714067798203695,\n",
       " 0.7340298831926126,\n",
       " 0.6429828605481405,\n",
       " 0.7417073176943314]"
      ]
     },
     "execution_count": 208,
     "metadata": {},
     "output_type": "execute_result"
    }
   ],
   "source": [
    "test_pearson_coeff\n",
    "train_pearson_coeff"
   ]
  },
  {
   "cell_type": "code",
   "execution_count": 214,
   "id": "8558452f-6a8d-4784-ac67-90c761eb276d",
   "metadata": {},
   "outputs": [
    {
     "name": "stdout",
     "output_type": "stream",
     "text": [
      "Loaded model 0 from models/Govaere_PLSR_fold_0.pkl\n",
      "Loaded model 1 from models/Govaere_PLSR_fold_1.pkl\n",
      "Loaded model 2 from models/Govaere_PLSR_fold_2.pkl\n",
      "Loaded model 3 from models/Govaere_PLSR_fold_3.pkl\n",
      "Loaded model 4 from models/Govaere_PLSR_fold_4.pkl\n",
      "Loaded model 5 from models/Govaere_PLSR_fold_5.pkl\n",
      "Loaded model 6 from models/Govaere_PLSR_fold_6.pkl\n",
      "Loaded model 7 from models/Govaere_PLSR_fold_7.pkl\n",
      "Loaded model 8 from models/Govaere_PLSR_fold_8.pkl\n",
      "Loaded model 9 from models/Govaere_PLSR_fold_9.pkl\n"
     ]
    }
   ],
   "source": [
    "# run on the Hoang and Pantano test sets\n",
    "# load all models\n",
    "\n",
    "loaded_models = []\n",
    "for i in range(0, 10):\n",
    "    filename = f\"models/Govaere_PLSR_fold_{i}.pkl\"\n",
    "    with open(filename, 'rb') as file:\n",
    "        model = pickle.load(file)\n",
    "        loaded_models.append(model)\n",
    "    print(f\"Loaded model {i} from {filename}\")"
   ]
  },
  {
   "cell_type": "code",
   "execution_count": 222,
   "id": "c384cec1-6a19-4e97-a1a5-0ea62c1095a0",
   "metadata": {},
   "outputs": [],
   "source": [
    "# run on Hoang and Pantano dataset\n",
    "Hoang_pearson_coeff = []\n",
    "Pantano_pearson_coeff = []\n",
    "\n",
    "for i, model in enumerate(loaded_models):\n",
    "    Y_pred = model.predict(X_Hoang)\n",
    "    Hoang_pearson_coeff.append(np.mean(pair_pearsonr(Y_Hoang.values, Y_pred)))\n",
    "\n",
    "    Y_pred = model.predict(X_Pantano)\n",
    "    Pantano_pearson_coeff.append(np.mean(pair_pearsonr(Y_Pantano.values, Y_pred)))"
   ]
  },
  {
   "cell_type": "code",
   "execution_count": null,
   "id": "ba588737-90ba-4d88-974d-514f6a7487ad",
   "metadata": {},
   "outputs": [],
   "source": [
    "# create shuffled dataset from Govaere\n"
   ]
  },
  {
   "cell_type": "code",
   "execution_count": 228,
   "id": "1462dea8-c19a-4593-bdbb-32f637aeb2c6",
   "metadata": {},
   "outputs": [],
   "source": [
    "# store all pearson correlation coefficients in a dataframe\n",
    "all_coeff = {\n",
    "    'Train': train_pearson_coeff,\n",
    "    'Validation': test_pearson_coeff,\n",
    "    'Hoang': Hoang_pearson_coeff,\n",
    "    'Pantano': Pantano_pearson_coeff,\n",
    "}"
   ]
  },
  {
   "cell_type": "code",
   "execution_count": 20,
   "id": "91ad8f3d-c5ca-4a5a-8f0e-2f7399ecfbb0",
   "metadata": {},
   "outputs": [
    {
     "name": "stdout",
     "output_type": "stream",
     "text": [
      "<class 'pandas.core.series.Series'>\n"
     ]
    },
    {
     "data": {
      "text/plain": [
       "array([5, 6, 4])"
      ]
     },
     "execution_count": 20,
     "metadata": {},
     "output_type": "execute_result"
    }
   ],
   "source": [
    "# Y_test = Y_test[\"Score\"].astype(int)\n",
    "print(type(Y_test))\n",
    "Y_test.values"
   ]
  }
 ],
 "metadata": {
  "kernelspec": {
   "display_name": "Python 3 (ipykernel)",
   "language": "python",
   "name": "python3"
  },
  "language_info": {
   "codemirror_mode": {
    "name": "ipython",
    "version": 3
   },
   "file_extension": ".py",
   "mimetype": "text/x-python",
   "name": "python",
   "nbconvert_exporter": "python",
   "pygments_lexer": "ipython3",
   "version": "3.12.4"
  }
 },
 "nbformat": 4,
 "nbformat_minor": 5
}

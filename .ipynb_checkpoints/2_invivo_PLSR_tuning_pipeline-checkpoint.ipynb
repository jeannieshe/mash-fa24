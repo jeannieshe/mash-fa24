{
 "cells": [
  {
   "cell_type": "markdown",
   "id": "3165e22e-fabc-456c-84fa-3868df39e7d5",
   "metadata": {},
   "source": [
    "# Tuning PLSR models and testing them against external datasets"
   ]
  },
  {
   "cell_type": "markdown",
   "id": "1ce18ae8-1d47-430a-86da-a5d303056136",
   "metadata": {
    "jp-MarkdownHeadingCollapsed": true
   },
   "source": [
    "## Setting up"
   ]
  },
  {
   "cell_type": "code",
   "execution_count": 11,
   "id": "63011544-da6c-4c80-8db6-3262ec033cde",
   "metadata": {},
   "outputs": [],
   "source": [
    "# setting up\n",
    "# imports\n",
    "import pyreadr\n",
    "import pandas as pd\n",
    "import numpy as np\n",
    "from sklearn.model_selection import StratifiedKFold\n",
    "from sklearn.cross_decomposition import PLSRegression\n",
    "from scipy.stats import pearsonr\n",
    "import pickle\n",
    "import matplotlib.pyplot as plt\n",
    "import seaborn as sns\n",
    "from scipy import stats\n",
    "\n",
    "# calculate the mean of the pearson coefficients of multiple variables\n",
    "def pair_pearsonr(x, y, axis=0): # this will allow us to take the pearson coefficient across two variables\n",
    "    mx = np.mean(x, axis=axis, keepdims=True)\n",
    "    my = np.mean(y, axis=axis, keepdims=True)\n",
    "    xm, ym = x-mx, y-my\n",
    "    r_num = np.add.reduce(xm * ym, axis=axis)\n",
    "    r_den = np.sqrt((xm*xm).sum(axis=axis) * (ym*ym).sum(axis=axis))\n",
    "    r = r_num / r_den\n",
    "    return r\n",
    "\n",
    "# plotting setup\n",
    "# Use LaTeX for graphs' text\n",
    "plt.rc('text', usetex=True)\n",
    "# Use the serif font\n",
    "plt.rc('font', family='serif')"
   ]
  },
  {
   "cell_type": "code",
   "execution_count": 13,
   "id": "cf087ceb-da8d-4ec2-ad2c-06e73f27f0e0",
   "metadata": {},
   "outputs": [],
   "source": [
    "# import data, access pandas df via key \"None\"\n",
    "X_Govaere = pyreadr.read_r(\"datasets/X_Govaere.rds\")[None]\n",
    "X_Hoang = pyreadr.read_r(\"datasets/X_Hoang.rds\")[None]\n",
    "X_Pantano = pyreadr.read_r(\"datasets/X_Pantano.rds\")[None]\n",
    "\n",
    "# actual, clinical results\n",
    "Y_Govaere = pyreadr.read_r(\"datasets/Y_Govaere.rds\")[None]\n",
    "Y_Hoang = pyreadr.read_r(\"datasets/Y_Hoang.rds\")[None]\n",
    "Y_Pantano = pyreadr.read_r(\"datasets/Y_Pantano.rds\")[None]\n",
    "\n",
    "# viper metric, predicted results\n",
    "Y_viper_Govaere = pyreadr.read_r(\"datasets/viper_X_Govaere.rds\")[None]\n",
    "Y_viper_Hoang = pyreadr.read_r(\"datasets/viper_X_Hoang.rds\")[None]\n",
    "Y_viper_Pantano = pyreadr.read_r(\"datasets/viper_X_Pantano.rds\")[None]"
   ]
  },
  {
   "cell_type": "code",
   "execution_count": 131,
   "id": "2a14b199-ff9a-4d87-95ef-ff88cfa80fc1",
   "metadata": {},
   "outputs": [],
   "source": [
    "# setup tuning procedure\n",
    "skf = StratifiedKFold(n_splits=10, shuffle=True, random_state=5)\n",
    "num_lvs = range(2, 11)\n",
    "\n",
    "# select our training dataset\n",
    "# TODO: CHANGE THE FOLLOWING 3 LINES\n",
    "training_dataset = \"Pantano\"\n",
    "X = X_Pantano\n",
    "Y = Y_Pantano"
   ]
  },
  {
   "cell_type": "markdown",
   "id": "e2b107c8-062e-4364-8a67-288a219d4256",
   "metadata": {
    "jp-MarkdownHeadingCollapsed": true
   },
   "source": [
    "## Perform cross validation to find ideal number of latent variables"
   ]
  },
  {
   "cell_type": "code",
   "execution_count": 133,
   "id": "56c5c87d-3f8d-4409-85b4-ad4adcffbb6f",
   "metadata": {},
   "outputs": [
    {
     "name": "stderr",
     "output_type": "stream",
     "text": [
      "/opt/anaconda3/lib/python3.12/site-packages/sklearn/model_selection/_split.py:737: UserWarning: The least populated class in y has only 9 members, which is less than n_splits=10.\n",
      "  warnings.warn(\n",
      "/opt/anaconda3/lib/python3.12/site-packages/sklearn/model_selection/_split.py:737: UserWarning: The least populated class in y has only 9 members, which is less than n_splits=10.\n",
      "  warnings.warn(\n",
      "/opt/anaconda3/lib/python3.12/site-packages/sklearn/model_selection/_split.py:737: UserWarning: The least populated class in y has only 9 members, which is less than n_splits=10.\n",
      "  warnings.warn(\n",
      "/opt/anaconda3/lib/python3.12/site-packages/sklearn/model_selection/_split.py:737: UserWarning: The least populated class in y has only 9 members, which is less than n_splits=10.\n",
      "  warnings.warn(\n",
      "/opt/anaconda3/lib/python3.12/site-packages/sklearn/model_selection/_split.py:737: UserWarning: The least populated class in y has only 9 members, which is less than n_splits=10.\n",
      "  warnings.warn(\n",
      "/opt/anaconda3/lib/python3.12/site-packages/sklearn/model_selection/_split.py:737: UserWarning: The least populated class in y has only 9 members, which is less than n_splits=10.\n",
      "  warnings.warn(\n",
      "/opt/anaconda3/lib/python3.12/site-packages/sklearn/model_selection/_split.py:737: UserWarning: The least populated class in y has only 9 members, which is less than n_splits=10.\n",
      "  warnings.warn(\n",
      "/opt/anaconda3/lib/python3.12/site-packages/sklearn/model_selection/_split.py:737: UserWarning: The least populated class in y has only 9 members, which is less than n_splits=10.\n",
      "  warnings.warn(\n",
      "/opt/anaconda3/lib/python3.12/site-packages/sklearn/model_selection/_split.py:737: UserWarning: The least populated class in y has only 9 members, which is less than n_splits=10.\n",
      "  warnings.warn(\n"
     ]
    },
    {
     "name": "stdout",
     "output_type": "stream",
     "text": [
      "From 10-fold cross validation, 10 latent variables achieves an average Pearson coeff of 0.7009263441664981.\n"
     ]
    }
   ],
   "source": [
    "pearson_coeff_lvs = [] # containing tuples (num_lv, avg pearson coeff)\n",
    "\n",
    "for latent_var in num_lvs:\n",
    "    \n",
    "    pearson_coeff = []\n",
    "\n",
    "    # index into one column only because we need the correct dim for finding indices\n",
    "    for i, (train_index, test_index) in enumerate(skf.split(X, Y[Y.columns[0]])):\n",
    "\n",
    "        X_train = X.iloc[train_index]\n",
    "        X_test = X.iloc[test_index]\n",
    "        Y_train = Y.iloc[train_index]\n",
    "        Y_test = Y.iloc[test_index]\n",
    "\n",
    "        model = PLSRegression(n_components=latent_var, scale=False)\n",
    "        model.fit(X_train, Y_train)\n",
    "        Y_test_hat = model.predict(X_test)\n",
    "\n",
    "        # take the mean in order to be able to generalize the behavior on both phenotypes\n",
    "        pearson_coeff.append(np.mean(pair_pearsonr(Y_test.values, Y_test_hat)))\n",
    "    \n",
    "    # evaluate the hyperparameter based on the average pearson coeff across all 10 folds\n",
    "    pearson_coeff_lvs.append((latent_var, sum(pearson_coeff)/len(pearson_coeff)))\n",
    "\n",
    "# print the result of the hyperparameter optimization\n",
    "print(f'From 10-fold cross validation, {max(pearson_coeff_lvs, key=lambda x: x[1])[0]} latent variables achieves an average Pearson coeff of {max(pearson_coeff_lvs, key=lambda x: x[1])[1]}.')"
   ]
  },
  {
   "cell_type": "code",
   "execution_count": 135,
   "id": "300ec2bb-7834-4b16-9bba-22e160c31660",
   "metadata": {},
   "outputs": [
    {
     "name": "stderr",
     "output_type": "stream",
     "text": [
      "/opt/anaconda3/lib/python3.12/site-packages/sklearn/model_selection/_split.py:737: UserWarning: The least populated class in y has only 9 members, which is less than n_splits=10.\n",
      "  warnings.warn(\n"
     ]
    },
    {
     "name": "stdout",
     "output_type": "stream",
     "text": [
      "Model for Fold 0 saved as models/Pantano_PLSR_fold_0.pkl\n",
      "Model for Fold 1 saved as models/Pantano_PLSR_fold_1.pkl\n",
      "Model for Fold 2 saved as models/Pantano_PLSR_fold_2.pkl\n",
      "Model for Fold 3 saved as models/Pantano_PLSR_fold_3.pkl\n",
      "Model for Fold 4 saved as models/Pantano_PLSR_fold_4.pkl\n",
      "Model for Fold 5 saved as models/Pantano_PLSR_fold_5.pkl\n",
      "Model for Fold 6 saved as models/Pantano_PLSR_fold_6.pkl\n",
      "Model for Fold 7 saved as models/Pantano_PLSR_fold_7.pkl\n",
      "Model for Fold 8 saved as models/Pantano_PLSR_fold_8.pkl\n",
      "Model for Fold 9 saved as models/Pantano_PLSR_fold_9.pkl\n"
     ]
    }
   ],
   "source": [
    "# save the model so we can run it again\n",
    "# this time, store the pearson's coeff for training and validation sets\n",
    "\n",
    "best_lv = max(pearson_coeff_lvs, key=lambda x: x[1])[0]\n",
    "\n",
    "latent_var = best_lv # our best performing hyperparameter\n",
    "train_pearson_coeff = []\n",
    "test_pearson_coeff = []\n",
    "\n",
    "for i, (train_index, test_index) in enumerate(skf.split(X, Y[Y.columns[0]])):\n",
    "    \n",
    "    X_train = X.iloc[train_index]\n",
    "    X_test = X.iloc[test_index]\n",
    "    Y_train = Y.iloc[train_index]\n",
    "    Y_test = Y.iloc[test_index]\n",
    "\n",
    "    model = PLSRegression(n_components=latent_var, scale=False)\n",
    "    model.fit(X_train, Y_train)\n",
    "    \n",
    "    Y_train_hat = model.predict(X_train) \n",
    "    train_pearson_coeff.append(np.mean(pair_pearsonr(Y_train.values, Y_train_hat)))\n",
    "    \n",
    "    Y_test_hat = model.predict(X_test) \n",
    "    test_pearson_coeff.append(np.mean(pair_pearsonr(Y_test.values, Y_test_hat)))\n",
    "    \n",
    "    filename = f\"models/{training_dataset}_PLSR_fold_{i}.pkl\"\n",
    "    with open(filename, 'wb') as file:\n",
    "        pickle.dump(model, file)\n",
    "    \n",
    "    print(f\"Model for Fold {i} saved as {filename}\")"
   ]
  },
  {
   "cell_type": "code",
   "execution_count": 137,
   "id": "1429b4a2-06f3-4060-9df4-da9e5f9cf449",
   "metadata": {},
   "outputs": [
    {
     "name": "stdout",
     "output_type": "stream",
     "text": [
      "Loaded model 0 from models/Pantano_PLSR_fold_0.pkl\n",
      "Loaded model 1 from models/Pantano_PLSR_fold_1.pkl\n",
      "Loaded model 2 from models/Pantano_PLSR_fold_2.pkl\n",
      "Loaded model 3 from models/Pantano_PLSR_fold_3.pkl\n",
      "Loaded model 4 from models/Pantano_PLSR_fold_4.pkl\n",
      "Loaded model 5 from models/Pantano_PLSR_fold_5.pkl\n",
      "Loaded model 6 from models/Pantano_PLSR_fold_6.pkl\n",
      "Loaded model 7 from models/Pantano_PLSR_fold_7.pkl\n",
      "Loaded model 8 from models/Pantano_PLSR_fold_8.pkl\n",
      "Loaded model 9 from models/Pantano_PLSR_fold_9.pkl\n"
     ]
    }
   ],
   "source": [
    "# load all models\n",
    "loaded_models = []\n",
    "for i in range(0, 10):\n",
    "    filename = f\"models/{training_dataset}_PLSR_fold_{i}.pkl\"\n",
    "    with open(filename, 'rb') as file:\n",
    "        model = pickle.load(file)\n",
    "        loaded_models.append(model)\n",
    "    print(f\"Loaded model {i} from {filename}\")"
   ]
  },
  {
   "cell_type": "markdown",
   "id": "bab44f23-0883-425b-8f62-2f5da31f3144",
   "metadata": {
    "jp-MarkdownHeadingCollapsed": true
   },
   "source": [
    "## Test with the best model on external and shuffled datasets"
   ]
  },
  {
   "cell_type": "code",
   "execution_count": 139,
   "id": "20e272b1-f771-4c9a-89ec-adeb536439c5",
   "metadata": {},
   "outputs": [],
   "source": [
    "# create shuffled dataset from training dataset\n",
    "X_shuffled = X.apply(lambda col: np.random.permutation(col.values), axis=0)\n",
    "X_shuffled.index = X.index # ensure the gene names are maintained"
   ]
  },
  {
   "cell_type": "code",
   "execution_count": 141,
   "id": "79b57635-20bf-4f4f-8b3b-aa759d752c35",
   "metadata": {},
   "outputs": [],
   "source": [
    "# run on the other two external test sets and the shuffled training dataset\n",
    "# TODO: CHANGE THE FOLLOWING 6 LINES\n",
    "X_test1 = X_Hoang\n",
    "X_test2 = X_Govaere\n",
    "Y_test1 = Y_Hoang\n",
    "Y_test2 = Y_Govaere\n",
    "test1 = \"Hoang\"\n",
    "test2 = \"Govaere\"\n",
    "\n",
    "test1_pearson_coeff = []\n",
    "test2_pearson_coeff = []\n",
    "shuffled_pearson_coeff = []\n",
    "\n",
    "for i, model in enumerate(loaded_models):\n",
    "    Y_pred = model.predict(X_test1)\n",
    "    test1_pearson_coeff.append(np.mean(pair_pearsonr(Y_test1.values, Y_pred)))\n",
    "\n",
    "    Y_pred = model.predict(X_test2)\n",
    "    test2_pearson_coeff.append(np.mean(pair_pearsonr(Y_test2.values, Y_pred)))\n",
    "\n",
    "    Y_pred = model.predict(X_shuffled)\n",
    "    shuffled_pearson_coeff.append(np.mean(pair_pearsonr(Y.values, Y_pred)))\n"
   ]
  },
  {
   "cell_type": "code",
   "execution_count": 143,
   "id": "1e6f8ddc-8e09-4136-a06c-52d564e6a4e9",
   "metadata": {},
   "outputs": [],
   "source": [
    "# store all pearson correlation coefficients in a dataframe\n",
    "all_coeff = {\n",
    "    'Train': train_pearson_coeff,\n",
    "    'Validation': test_pearson_coeff,\n",
    "    test1: test1_pearson_coeff,\n",
    "    test2: test2_pearson_coeff,\n",
    "    'Shuffled': shuffled_pearson_coeff\n",
    "}\n",
    "\n",
    "all_pearsons_coeff = pd.DataFrame(all_coeff)"
   ]
  },
  {
   "cell_type": "markdown",
   "id": "d2e73208-ec0a-4bdb-947a-deb511776ec4",
   "metadata": {},
   "source": [
    "## Plot with Mann-Whitney test"
   ]
  },
  {
   "cell_type": "code",
   "execution_count": 145,
   "id": "29f94ac7-553a-4e11-83dd-f988fd188bf1",
   "metadata": {},
   "outputs": [
    {
     "data": {
      "image/png": "[encoded data removed]",
      "text/plain": [
       "<Figure size 640x480 with 1 Axes>"
      ]
     },
     "metadata": {},
     "output_type": "display_data"
    }
   ],
   "source": [
    "significant_combinations = []\n",
    "\n",
    "combinations = [(x, 4) for x in [1, 2, 3]]\n",
    "for combo in combinations:\n",
    "    data1 = all_pearsons_coeff.iloc[:,combo[0]]\n",
    "    data2 = all_pearsons_coeff.iloc[:,combo[1]]\n",
    "    \n",
    "    # calculate significance\n",
    "    U, p = stats.mannwhitneyu(data1, data2, alternative='two-sided')\n",
    "    if p < 0.05:\n",
    "        significant_combinations.append([combo, p])\n",
    "\n",
    "# create a set of axes\n",
    "ax = plt.axes()\n",
    "# create a boxplot on the axes\n",
    "bp = ax.boxplot(all_pearsons_coeff, patch_artist=True)\n",
    "# graph title\n",
    "ax.set_title(f\"Tuning PLSR Model with {training_dataset} in-vivo Training Data\", fontsize=16)\n",
    "# label y-axis\n",
    "ax.set_ylabel(\"Pearson Coefficient\")\n",
    "\n",
    "xticklabels = all_pearsons_coeff.columns.tolist()\n",
    "ax.set_xticklabels(xticklabels)\n",
    "\n",
    "# Change the colour of the boxes to Seaborn's 'pastel' palette\n",
    "colors = sns.color_palette('colorblind')\n",
    "for patch, color in zip(bp['boxes'], colors):\n",
    "    patch.set_facecolor(color)\n",
    "\n",
    "# Colour of the median lines\n",
    "plt.setp(bp['medians'], color='k')\n",
    "\n",
    "# Get the y-axis limits\n",
    "bottom, top = ax.get_ylim()\n",
    "y_range = top - bottom\n",
    "\n",
    "# Significance bars\n",
    "for i, significant_combination in enumerate(significant_combinations):\n",
    "    # Columns corresponding to the datasets of interest\n",
    "    # add one because the df indexing is 0 indexed, but plot is 1 indexed\n",
    "    x1 = significant_combination[0][0] + 1 \n",
    "    x2 = significant_combination[0][1] + 1\n",
    "    # What level is this bar among the bars above the plot?\n",
    "    level = len(significant_combinations) - i\n",
    "    # Plot the bar\n",
    "    bar_height = (y_range * 0.07 * level) + top\n",
    "    bar_tips = bar_height - (y_range * 0.02)\n",
    "    plt.plot(\n",
    "        [x1, x1, x2, x2],\n",
    "        [bar_tips, bar_height, bar_height, bar_tips], lw=1, c='k'\n",
    "    )\n",
    "    # Significance level\n",
    "    p = significant_combination[1]\n",
    "    if p < 0.001:\n",
    "        sig_symbol = '***'\n",
    "    elif p < 0.01:\n",
    "        sig_symbol = '**'\n",
    "    elif p < 0.05:\n",
    "        sig_symbol = '*'\n",
    "    text_height = bar_height + (y_range * 0.01)\n",
    "    plt.text((x1 + x2) * 0.5, text_height, sig_symbol, ha='center', va='bottom', c='k')\n",
    "\n",
    "plt.savefig(f'graphs/PLSR_tuning_with_{training_dataset}.png', dpi=200)\n",
    "plt.show()"
   ]
  },
  {
   "cell_type": "code",
   "execution_count": 75,
   "id": "84199023-0ebd-4c67-b2e2-8b8b81b66e13",
   "metadata": {},
   "outputs": [
    {
     "data": {
      "text/plain": [
       "[[(1, 4), 0.00018267179110955002],\n",
       " [(2, 4), 0.00018267179110955002],\n",
       " [(3, 4), 0.00018267179110955002]]"
      ]
     },
     "execution_count": 75,
     "metadata": {},
     "output_type": "execute_result"
    }
   ],
   "source": [
    "significant_combinations"
   ]
  }
 ],
 "metadata": {
  "kernelspec": {
   "display_name": "Python 3 (ipykernel)",
   "language": "python",
   "name": "python3"
  },
  "language_info": {
   "codemirror_mode": {
    "name": "ipython",
    "version": 3
   },
   "file_extension": ".py",
   "mimetype": "text/x-python",
   "name": "python",
   "nbconvert_exporter": "python",
   "pygments_lexer": "ipython3",
   "version": "3.12.4"
  }
 },
 "nbformat": 4,
 "nbformat_minor": 5
}
